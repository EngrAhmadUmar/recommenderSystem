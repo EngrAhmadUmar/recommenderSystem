{
 "cells": [
  {
   "cell_type": "code",
   "execution_count": 4,
   "id": "474bff13",
   "metadata": {},
   "outputs": [
    {
     "name": "stdout",
     "output_type": "stream",
     "text": [
      "Collecting gensim\n",
      "  Downloading gensim-4.1.2-cp39-cp39-manylinux_2_12_x86_64.manylinux2010_x86_64.whl (24.0 MB)\n",
      "\u001b[2K     \u001b[38;2;114;156;31m━━━━━━━━━━━━━━━━━━━━━━━━━━━━━━━━━━━━━━━━\u001b[0m \u001b[32m24.0/24.0 MB\u001b[0m \u001b[31m4.6 MB/s\u001b[0m eta \u001b[36m0:00:00\u001b[0mm eta \u001b[36m0:00:01\u001b[0m[36m0:00:01\u001b[0m\n",
      "\u001b[?25hRequirement already satisfied: numpy>=1.17.0 in /home/jose/anaconda3/lib/python3.9/site-packages (from gensim) (1.20.3)\n",
      "Requirement already satisfied: scipy>=0.18.1 in /home/jose/anaconda3/lib/python3.9/site-packages (from gensim) (1.7.1)\n",
      "Collecting smart-open>=1.8.1\n",
      "  Downloading smart_open-5.2.1-py3-none-any.whl (58 kB)\n",
      "\u001b[2K     \u001b[38;2;114;156;31m━━━━━━━━━━━━━━━━━━━━━━━━━━━━━━━━━━━━━━━\u001b[0m \u001b[32m58.6/58.6 KB\u001b[0m \u001b[31m840.8 kB/s\u001b[0m eta \u001b[36m0:00:00\u001b[0m31m26.8 MB/s\u001b[0m eta \u001b[36m0:00:01\u001b[0m\n",
      "\u001b[?25hInstalling collected packages: smart-open, gensim\n",
      "Successfully installed gensim-4.1.2 smart-open-5.2.1\n"
     ]
    }
   ],
   "source": [
    "!pip install gensim"
   ]
  },
  {
   "cell_type": "code",
   "execution_count": 30,
   "id": "63111f2f",
   "metadata": {},
   "outputs": [],
   "source": [
    "import numpy as np\n",
    "import pandas as pd\n",
    "from flask import Flask, request, render_template\n",
    "# from flask_ngrok import run_with_ngrok\n",
    "\n",
    "# Modeling libs\n",
    "from gensim.models import Word2Vec\n",
    "\n",
    "# Others\n",
    "import json\n",
    "import os"
   ]
  },
  {
   "cell_type": "code",
   "execution_count": 31,
   "id": "fc870e1c",
   "metadata": {},
   "outputs": [],
   "source": [
    "app = Flask(__name__)\n",
    "model = Word2Vec.load('song2vec.model')"
   ]
  },
  {
   "cell_type": "code",
   "execution_count": 32,
   "id": "feb6e523",
   "metadata": {},
   "outputs": [],
   "source": [
    "@app.route('/')\n",
    "def home():\n",
    "    return render_template('index.html')"
   ]
  },
  {
   "cell_type": "code",
   "execution_count": 33,
   "id": "5a1c0192",
   "metadata": {},
   "outputs": [],
   "source": [
    "@app.route('/getrecommendation',methods=['POST'])\n",
    "def getrecommendation():\n",
    "    target = os.path.join(app_root, 'static')\n",
    "    file = request.files['fileup']\n",
    "    \n",
    "    file_name = file.filename or ''\n",
    "    destination = '/'.join([target, file_name])\n",
    "    \n",
    "    with open(file) as json_file:\n",
    "        data = json.load(file_name)\n",
    "        \n",
    "    recommendation = get_recommended_songs(20, data)\n",
    "\n",
    "    return render_template('results.html', output='{}'.format(recommendation))"
   ]
  },
  {
   "cell_type": "code",
   "execution_count": 34,
   "id": "e28b8766",
   "metadata": {},
   "outputs": [],
   "source": [
    "def meanVectors(playlist):\n",
    "    vec = []\n",
    "    for song_id in playlist:\n",
    "        try:\n",
    "            vec.append(model.wv[song_id])\n",
    "        except KeyError:\n",
    "            continue\n",
    "    return np.mean(vec, axis=0)"
   ]
  },
  {
   "cell_type": "code",
   "execution_count": 35,
   "id": "eefd99c9",
   "metadata": {},
   "outputs": [],
   "source": [
    "def similarSongsByVector(vec, n = 10, by_name = True):\n",
    "    # extract most similar songs for the input vector\n",
    "    similar_songs = model.wv.similar_by_vector(vec, topn = n)\n",
    "    \n",
    "    # extract name and similarity score of the similar products\n",
    "    if by_name:\n",
    "        similar_songs = [(songs.loc[int(song_id), \"artist - title\"], sim)\n",
    "                              for song_id, sim in similar_songs]\n",
    "    \n",
    "    return similar_songs"
   ]
  },
  {
   "cell_type": "code",
   "execution_count": 36,
   "id": "af8c7e64",
   "metadata": {},
   "outputs": [],
   "source": [
    "def get_recommended_songs(n, playlist):\n",
    "    playlist_vec = list(map(meanVectors, playlist_test))\n",
    "    \n",
    "#     songs = pd.read_csv('data/limited_songs.csv')\n",
    "    \n",
    "    rec_list = []\n",
    "    for song, sim in similarSongsByVector(playlist_vec[0], n):\n",
    "        rec_list.append(song)\n",
    "    return rec_list"
   ]
  },
  {
   "cell_type": "code",
   "execution_count": 37,
   "id": "654a4372",
   "metadata": {},
   "outputs": [
    {
     "name": "stdout",
     "output_type": "stream",
     "text": [
      " * Serving Flask app \"__main__\" (lazy loading)\n",
      " * Environment: production\n",
      "\u001b[31m   WARNING: This is a development server. Do not use it in a production deployment.\u001b[0m\n",
      "\u001b[2m   Use a production WSGI server instead.\u001b[0m\n",
      " * Debug mode: off\n"
     ]
    },
    {
     "name": "stderr",
     "output_type": "stream",
     "text": [
      " * Running on http://127.0.0.1:5000/ (Press CTRL+C to quit)\n",
      "127.0.0.1 - - [11/Apr/2022 14:08:56] \"GET / HTTP/1.1\" 200 -\n",
      "127.0.0.1 - - [11/Apr/2022 14:09:03] \"GET / HTTP/1.1\" 200 -\n",
      "127.0.0.1 - - [11/Apr/2022 14:09:03] \"GET /static/css/style.css HTTP/1.1\" 200 -\n",
      "127.0.0.1 - - [11/Apr/2022 14:09:03] \"GET /static/js/script.js HTTP/1.1\" 200 -\n",
      "127.0.0.1 - - [11/Apr/2022 14:09:04] \"GET /favicon.ico HTTP/1.1\" 404 -\n",
      "[2022-04-11 14:09:13,504] ERROR in app: Exception on /getrecommendation [POST]\n",
      "Traceback (most recent call last):\n",
      "  File \"/home/jose/anaconda3/lib/python3.9/site-packages/flask/app.py\", line 2447, in wsgi_app\n",
      "    response = self.full_dispatch_request()\n",
      "  File \"/home/jose/anaconda3/lib/python3.9/site-packages/flask/app.py\", line 1952, in full_dispatch_request\n",
      "    rv = self.handle_user_exception(e)\n",
      "  File \"/home/jose/anaconda3/lib/python3.9/site-packages/flask/app.py\", line 1821, in handle_user_exception\n",
      "    reraise(exc_type, exc_value, tb)\n",
      "  File \"/home/jose/anaconda3/lib/python3.9/site-packages/flask/_compat.py\", line 39, in reraise\n",
      "    raise value\n",
      "  File \"/home/jose/anaconda3/lib/python3.9/site-packages/flask/app.py\", line 1950, in full_dispatch_request\n",
      "    rv = self.dispatch_request()\n",
      "  File \"/home/jose/anaconda3/lib/python3.9/site-packages/flask/app.py\", line 1936, in dispatch_request\n",
      "    return self.view_functions[rule.endpoint](**req.view_args)\n",
      "  File \"/tmp/ipykernel_27796/2095557361.py\", line 3, in getrecommendation\n",
      "    target = os.path.join(app_root, 'static')\n",
      "NameError: name 'os' is not defined\n",
      "127.0.0.1 - - [11/Apr/2022 14:09:13] \"POST /getrecommendation HTTP/1.1\" 500 -\n"
     ]
    }
   ],
   "source": [
    "if __name__ == \"__main__\":\n",
    "    app.run()"
   ]
  },
  {
   "cell_type": "code",
   "execution_count": null,
   "id": "8c4c288b",
   "metadata": {},
   "outputs": [],
   "source": []
  }
 ],
 "metadata": {
  "kernelspec": {
   "display_name": "Python 3 (ipykernel)",
   "language": "python",
   "name": "python3"
  },
  "language_info": {
   "codemirror_mode": {
    "name": "ipython",
    "version": 3
   },
   "file_extension": ".py",
   "mimetype": "text/x-python",
   "name": "python",
   "nbconvert_exporter": "python",
   "pygments_lexer": "ipython3",
   "version": "3.9.7"
  }
 },
 "nbformat": 4,
 "nbformat_minor": 5
}
